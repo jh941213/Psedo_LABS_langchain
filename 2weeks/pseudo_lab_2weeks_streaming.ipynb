{
 "cells": [
  {
   "cell_type": "markdown",
   "metadata": {},
   "source": [
    "# 🦜LangChain을 사용한 스트리밍\n",
    "- 스트리밍은 LLM 기반 애플리케이션이 최종 사용자에게 반응하는 느낌을 주는 데 매우 중요합니다.\n",
    "- LLM, 파서, 프롬프트, 리트리버, 에이전트와 같은 중요한 LangChain 기본 요소는 LangChain 실행 가능 인터페이스를 구현합니다.\n",
    "\n",
    "이 인터페이스는 콘텐츠 스트리밍에 대한 두 가지 일반적인 접근 방식을 제공합니다:\n",
    "\n",
    "- 동기화 스트림과 비동기 아스트림: 체인에서 최종 출력을 스트리밍하는 스트리밍의 기본 구현입니다.\n",
    "- async astream_events 및 async astream_log: 중간 단계와 체인의 최종 출력을 모두 스트리밍하는 방법을 제공합니다.\n",
    "두 가지 접근 방식을 살펴보고 사용 방법을 이해해 보겠습니다. 🥷"
   ]
  },
  {
   "cell_type": "code",
   "execution_count": 1,
   "metadata": {},
   "outputs": [],
   "source": [
    "!pip install -qU langchain-anthropic"
   ]
  },
  {
   "cell_type": "markdown",
   "metadata": {},
   "source": [
    "TIP. anthrophic 가입하고 API key 설정 할때 번호 인증 하면 크레딧 5불을 줍니다."
   ]
  },
  {
   "cell_type": "code",
   "execution_count": 2,
   "metadata": {},
   "outputs": [],
   "source": [
    "api_key = \"your_api_key\""
   ]
  },
  {
   "cell_type": "code",
   "execution_count": 7,
   "metadata": {},
   "outputs": [
    {
     "name": "stdout",
     "output_type": "stream",
     "text": [
      "안|녕|하|세|요| |김|덕|배|님|.| |저|는| |Claude|라|는| |인|공|지|능| |어|시|스|턴|트|입|니|다|.| |사|람|들|과| |대|화|를| |나|누|고| |다|양|한| |주|제|에| |대|해| |도|움|을| |드|리|는| |것|이| |제| |역|할|이|에|요|.| |반|갑|습|니|다|!|"
     ]
    }
   ],
   "source": [
    "# Showing the example using anthropic, but you can use\n",
    "# your favorite chat model!\n",
    "from langchain_anthropic import ChatAnthropic\n",
    "\n",
    "model = ChatAnthropic(model='claude-3-opus-20240229',temperature=0, anthropic_api_key=api_key)\n",
    "\n",
    "chunks = []\n",
    "async for chunk in model.astream(\"안녕 나는 김덕배야. 너는 누구냐?\"):\n",
    "    chunks.append(chunk)\n",
    "    print(chunk.content, end=\"|\", flush=True)"
   ]
  },
  {
   "cell_type": "code",
   "execution_count": 8,
   "metadata": {},
   "outputs": [
    {
     "data": {
      "text/plain": [
       "AIMessageChunk(content='안')"
      ]
     },
     "execution_count": 8,
     "metadata": {},
     "output_type": "execute_result"
    }
   ],
   "source": [
    "chunks[0]"
   ]
  },
  {
   "cell_type": "code",
   "execution_count": 9,
   "metadata": {},
   "outputs": [
    {
     "data": {
      "text/plain": [
       "AIMessageChunk(content='안녕하세요')"
      ]
     },
     "execution_count": 9,
     "metadata": {},
     "output_type": "execute_result"
    }
   ],
   "source": [
    "chunks[0] + chunks[1] + chunks[2] + chunks[3] + chunks[4]"
   ]
  },
  {
   "cell_type": "code",
   "execution_count": 10,
   "metadata": {},
   "outputs": [
    {
     "name": "stdout",
     "output_type": "stream",
     "text": [
      "일|론| |머|스|크|는| |테|슬|라|,| |스|페|이|스|X|,| |뉴|럴|링|크|,| |보|링| |컴|퍼|니| |등| |여|러| |혁|신|적|인| |기|업|의| |창|업|자|이|자| |CEO|입|니|다|.| |그|는| |전|기|차|,| |우|주| |탐|사|,| |인|공|지|능|,| |신|경| |기|술| |등| |다|양|한| |분|야|에|서| |혁|신|을| |주|도|하|고| |있|습|니|다|.| |\n",
      "\n",
      "1|.| |테|슬|라|:| |전|기|차| |및| |청|정|에|너|지| |솔|루|션| |기|업|으|로|,| |머|스|크|는| |2|004|년| |투|자|자|로| |참|여|한| |후| |CEO|가| |되|었|습|니|다|.|\n",
      "\n",
      "2|.| |스|페|이|스|X|:| |우|주| |탐|사| |기|술| |기|업|으|로|,| |재|사|용| |가|능|한| |로|켓| |개|발| |및| |화|성| |colon|ization|을| |목|표|로| |합|니|다|.|\n",
      "\n",
      "3|.| |뉴|럴|링|크|:| |인|간|의| |두|뇌|와| |컴|퓨|터|를| |연|결|하|는| |기|술|을| |개|발|하|는| |신|경| |기|술| |기|업|입|니|다|.|\n",
      "\n",
      "4|.| |보|링| |컴|퍼|니|:| |터|널| |굴|착| |기|술|을| |개|발|하|여| |교|통| |혼|잡|을| |해|소|하|고|자| |하|는| |기|업|입|니|다|.|\n",
      "\n",
      "머|스|크|는| |혁|신|적|인| |아|이|디|어|와| |사|업| |추|진|력|으|로| |유|명|하|지|만|,| |때|로|는| |논|란|의| |중|심|에| |서|기|도| |합|니|다|.| |그|는| |트|위|터|를| |통|해| |활|발|히| |소|통|하|며|,| |암|호|화|폐| |등| |다|양|한| |주|제|에| |대|해| |의|견|을| |표|명|합|니|다|.| |머|스|크|의| |비|전|과| |리|더|십|은| |전| |세|계|적|으|로| |주|목|받|고| |있|습|니|다|.|"
     ]
    }
   ],
   "source": [
    "from langchain_core.output_parsers import StrOutputParser\n",
    "from langchain_core.prompts import ChatPromptTemplate\n",
    "\n",
    "prompt = ChatPromptTemplate.from_template(\"{topic}이거에 대한 정보를 나에게 말해줘.\") # prompt template\n",
    "parser = StrOutputParser() # output parser 문자열을 그대로 출력\n",
    "chain = prompt | model | parser\n",
    "\n",
    "async for chunk in chain.astream({\"topic\": \"일론머스크\"}):\n",
    "    print(chunk, end=\"|\", flush=True)"
   ]
  },
  {
   "cell_type": "markdown",
   "metadata": {},
   "source": [
    "# 입력 스트림으로 작업하기\n",
    "생성 중인 출력에서 JSON을 스트리밍하고 싶다면 어떻게 해야 할까요?\n",
    "\n",
    "json.loads에 의존하여 부분 JSON을 구문 분석하려고 하면 부분 JSON이 유효한 JSON이 아니므로 구문 분석이 실패할 것입니다.\n",
    "\n",
    "어떻게 해야 할지 완전히 망설이게 되고 JSON을 스트리밍할 수 없다고 주장하게 될 것입니다.\n",
    "\n",
    "파서가 입력 스트림에서 작동하여 부분 json을 유효한 상태로 \"자동 완성\"을 시도해야 하는 방법이 있다는 것이 밝혀졌습니다.\n",
    "\n",
    "이것이 무엇을 의미하는지 이해하기 위해 이러한 구문 분석기가 실제로 작동하는 모습을 살펴봅시다."
   ]
  },
  {
   "cell_type": "code",
   "execution_count": 11,
   "metadata": {},
   "outputs": [
    {
     "name": "stdout",
     "output_type": "stream",
     "text": [
      "{}\n",
      "{'countries': []}\n",
      "{'countries': [{}]}\n",
      "{'countries': [{'name': ''}]}\n",
      "{'countries': [{'name': 'France'}]}\n",
      "{'countries': [{'name': 'France', 'population': 67}]}\n",
      "{'countries': [{'name': 'France', 'population': 67391}]}\n",
      "{'countries': [{'name': 'France', 'population': 67391582}]}\n",
      "{'countries': [{'name': 'France', 'population': 67391582}, {}]}\n",
      "{'countries': [{'name': 'France', 'population': 67391582}, {'name': ''}]}\n",
      "{'countries': [{'name': 'France', 'population': 67391582}, {'name': 'Spain'}]}\n",
      "{'countries': [{'name': 'France', 'population': 67391582}, {'name': 'Spain', 'population': 47}]}\n",
      "{'countries': [{'name': 'France', 'population': 67391582}, {'name': 'Spain', 'population': 47351}]}\n",
      "{'countries': [{'name': 'France', 'population': 67391582}, {'name': 'Spain', 'population': 47351567}]}\n",
      "{'countries': [{'name': 'France', 'population': 67391582}, {'name': 'Spain', 'population': 47351567}, {}]}\n",
      "{'countries': [{'name': 'France', 'population': 67391582}, {'name': 'Spain', 'population': 47351567}, {'name': ''}]}\n",
      "{'countries': [{'name': 'France', 'population': 67391582}, {'name': 'Spain', 'population': 47351567}, {'name': 'Japan'}]}\n",
      "{'countries': [{'name': 'France', 'population': 67391582}, {'name': 'Spain', 'population': 47351567}, {'name': 'Japan', 'population': 126}]}\n",
      "{'countries': [{'name': 'France', 'population': 67391582}, {'name': 'Spain', 'population': 47351567}, {'name': 'Japan', 'population': 126226}]}\n",
      "{'countries': [{'name': 'France', 'population': 67391582}, {'name': 'Spain', 'population': 47351567}, {'name': 'Japan', 'population': 126226568}]}\n"
     ]
    }
   ],
   "source": [
    "from langchain_core.output_parsers import JsonOutputParser\n",
    "\n",
    "chain = (\n",
    "    model | JsonOutputParser() #json 형태로 출력\n",
    ")  # Due to a bug in older versions of Langchain, JsonOutputParser did not stream results from some models\n",
    "async for text in chain.astream(\n",
    "    'output a list of the countries france, spain and japan and their populations in JSON format. Use a dict with an outer key of \"countries\" which contains a list of countries. Each country should have the key `name` and `population`'\n",
    "):\n",
    "    print(text, flush=True)"
   ]
  },
  {
   "cell_type": "code",
   "execution_count": 12,
   "metadata": {},
   "outputs": [
    {
     "name": "stdout",
     "output_type": "stream",
     "text": [
      "[None, '', 'France', 'France', 'France', 'France', 'France', None, 'France', '', 'France', 'Spain', 'France', 'Spain', 'France', 'Spain', 'France', 'Spain', 'France', 'Spain', None, 'France', 'Spain', '', 'France', 'Spain', 'Japan', 'France', 'Spain', 'Japan', 'France', 'Spain', 'Japan', 'France', 'Spain', 'Japan']|"
     ]
    }
   ],
   "source": [
    "from langchain_core.output_parsers import (\n",
    "    JsonOutputParser,\n",
    ")\n",
    "\n",
    "\n",
    "# A function that operates on finalized inputs\n",
    "# rather than on an input_stream\n",
    "def _extract_country_names(inputs):\n",
    "    \"\"\"A function that does not operates on input streams and breaks streaming.\"\"\"\n",
    "    if not isinstance(inputs, dict):\n",
    "        return \"\"\n",
    "\n",
    "    if \"countries\" not in inputs:\n",
    "        return \"\"\n",
    "\n",
    "    countries = inputs[\"countries\"]\n",
    "\n",
    "    if not isinstance(countries, list):\n",
    "        return \"\"\n",
    "\n",
    "    country_names = [\n",
    "        country.get(\"name\") for country in countries if isinstance(country, dict)\n",
    "    ]\n",
    "    return country_names\n",
    "\n",
    "\n",
    "chain = model | JsonOutputParser() | _extract_country_names\n",
    "\n",
    "async for text in chain.astream(\n",
    "    'output a list of the countries france, spain and japan and their populations in JSON format. Use a dict with an outer key of \"countries\" which contains a list of countries. Each country should have the key `name` and `population`'\n",
    "):\n",
    "    print(text, end=\"|\", flush=True)"
   ]
  },
  {
   "cell_type": "code",
   "execution_count": 13,
   "metadata": {},
   "outputs": [
    {
     "name": "stdout",
     "output_type": "stream",
     "text": [
      "France|Spain|Japan|"
     ]
    }
   ],
   "source": [
    "from langchain_core.output_parsers import JsonOutputParser\n",
    "\n",
    "\n",
    "async def _extract_country_names_streaming(input_stream):\n",
    "    \"\"\"A function that operates on input streams.\"\"\"\n",
    "    country_names_so_far = set()\n",
    "\n",
    "    async for input in input_stream:\n",
    "        if not isinstance(input, dict):\n",
    "            continue\n",
    "\n",
    "        if \"countries\" not in input:\n",
    "            continue\n",
    "\n",
    "        countries = input[\"countries\"]\n",
    "\n",
    "        if not isinstance(countries, list):\n",
    "            continue\n",
    "\n",
    "        for country in countries:\n",
    "            name = country.get(\"name\")\n",
    "            if not name:\n",
    "                continue\n",
    "            if name not in country_names_so_far:\n",
    "                yield name\n",
    "                country_names_so_far.add(name)\n",
    "\n",
    "\n",
    "chain = model | JsonOutputParser() | _extract_country_names_streaming\n",
    "\n",
    "async for text in chain.astream(\n",
    "    'output a list of the countries france, spain and japan and their populations in JSON format. Use a dict with an outer key of \"countries\" which contains a list of countries. Each country should have the key `name` and `population`'\n",
    "):\n",
    "    print(text, end=\"|\", flush=True)"
   ]
  },
  {
   "cell_type": "code",
   "execution_count": null,
   "metadata": {},
   "outputs": [],
   "source": []
  }
 ],
 "metadata": {
  "kernelspec": {
   "display_name": "kdb",
   "language": "python",
   "name": "python3"
  },
  "language_info": {
   "codemirror_mode": {
    "name": "ipython",
    "version": 3
   },
   "file_extension": ".py",
   "mimetype": "text/x-python",
   "name": "python",
   "nbconvert_exporter": "python",
   "pygments_lexer": "ipython3",
   "version": "3.9.18"
  }
 },
 "nbformat": 4,
 "nbformat_minor": 2
}
